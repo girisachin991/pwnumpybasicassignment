{
 "cells": [
  {
   "cell_type": "code",
   "execution_count": null,
   "id": "100520f7-1de8-4066-9856-c887d1bc2988",
   "metadata": {},
   "outputs": [],
   "source": [
    "#1. Explain the purpose and advantages of NumPy in scientific computing and data analysis. How does it enhance Python's capabilities for numerical operations?\n",
    "'''NumPy stands for Numerical Python.\n",
    "   NumPy is a Python library used for working with arrays.\n",
    "   It also has functions for working in domain of linear algebra, fourier transform, and matrices.\n",
    "   Purpose \n",
    "   In Python we have lists that serve the purpose of arrays, but they are slow to process.\n",
    "   NumPy aims to provide an array object that is up to 50x faster than traditional Python lists.\n",
    "   The array object in NumPy is called ndarray, it provides a lot of supporting functions that make working with ndarray very easy.\n",
    "   Arrays are very frequently used in data science, where speed and resources are very important.\n",
    "   Reason \n",
    "   Numpy is using c or c++ language so it's working fast than python.\n",
    "   As it uses the homogenous data it is fast.\n",
    "   since it store homogenous data in continous memory location, so mathematical computataion is fast.'''"
   ]
  },
  {
   "cell_type": "code",
   "execution_count": null,
   "id": "968d50bf-6532-43f7-99fb-1f87508b4328",
   "metadata": {},
   "outputs": [],
   "source": [
    "#2. Compare and contrast np.mean() and np.average() functions in NumPy. When would you use one over the other?\n",
    "'''In the Numpy library, there are two functions np.mean() and np.average() are present.\n",
    "   Both are actually doing nearly the same job of calculating mean/average. \n",
    "   The difference comes when we are calculating the weighted average. If that is the case then we have to use np.average(). \n",
    "   With np.average function we can calculate both arithmetic mean and weighted average.\n",
    "   np.mean()\n",
    "  np.mean(array_name, axis = none) \n",
    "  In numpy library, np.mean() is a function used to calculate arithmetic mean of the given array along with the axis.\n",
    "  np.average()\n",
    "  numpy.average(arr, axis = , weights = )\n",
    "  The arithmetic mean and weighted average calculations are more flexible with np.average(). \n",
    "  It can calculate the weighted average if we pass the weight; if not, it returns the same value as np.mean(). '''"
   ]
  },
  {
   "cell_type": "code",
   "execution_count": 9,
   "id": "87647050-f383-4dff-b9fd-44b525a5c004",
   "metadata": {},
   "outputs": [
    {
     "name": "stdout",
     "output_type": "stream",
     "text": [
      "Array is  [1 2 3 4 5 6 7 8 9]\n",
      "mean value is 5.0\n"
     ]
    }
   ],
   "source": [
    "import numpy as np \n",
    "arr=np.array([1,2,3,4,5,6,7,8,9])\n",
    "print(\"Array is \",arr)\n",
    "mean=np.mean(arr)\n",
    "print(\"mean value is\",mean)"
   ]
  },
  {
   "cell_type": "code",
   "execution_count": 27,
   "id": "b485ddc5-38fc-4061-8edf-cd2339ded3d7",
   "metadata": {},
   "outputs": [
    {
     "name": "stdout",
     "output_type": "stream",
     "text": [
      "Array :  [ 1  2  3  4  5  6  7  8  9 10]\n",
      "Mean of the Array :  5.5\n",
      "Weight average of Array :  6.574257425742574\n"
     ]
    }
   ],
   "source": [
    "import numpy as np\n",
    "arr = np.array([1,2,3,4,5,6,7,8,9,10])\n",
    "print(\"Array : \",arr,)\n",
    "print(\"Mean of the Array : \",np.average(arr),)\n",
    "weight = np.array([4,5,6,12,15,10,2,8,19,20])\n",
    "print(\"Weight average of Array : \",np.average(arr, weights=weight))"
   ]
  },
  {
   "cell_type": "code",
   "execution_count": null,
   "id": "c0eeccc3-6dd4-4096-b596-1a9426587edd",
   "metadata": {},
   "outputs": [],
   "source": [
    "#3. Describe the methods for reversing a NumPy array along different axes. Provide examples for 1D and 2D arrays.\n",
    "'''Using flip() function to Reverse a Numpy array\n",
    "   The numpy.flip() function reverses the order of array elements along the specified axis, preserving the shape of the array.\n",
    "   Using slicing of array\n",
    "   This method makes a copy of the list instead of sorting it in order.\n",
    "   To accommodate all of the current components, making a clone requires additional room. \n",
    "   More RAM is used up in this way.\n",
    "   Using flipud function to Reverse a Numpy array \n",
    "   The numpy.flipud() function flips the array(entries in each column) in up-down direction, shape preserved.'''"
   ]
  },
  {
   "cell_type": "code",
   "execution_count": 35,
   "id": "e15d8262-00be-468c-b017-39de0cbc9b4b",
   "metadata": {},
   "outputs": [
    {
     "name": "stdout",
     "output_type": "stream",
     "text": [
      "The given array is  [1 2 3 4 5] \n",
      "\n",
      " Reverse of array using flip is [5 4 3 2 1] \n",
      "\n",
      "Reverse of array using slicing [5 4 3 2 1] \n",
      "\n",
      "Reverse of the array using flipud [5 4 3 2 1] \n",
      "\n"
     ]
    }
   ],
   "source": [
    "arr=np.array([1,2,3,4,5])\n",
    "print(\"The given array is \", arr,\"\\n\")\n",
    "rev1=np.flip(arr)\n",
    "print(\" Reverse of array using flip is\",rev1,\"\\n\")\n",
    "rev2=arr[::-1]\n",
    "print(\"Reverse of array using slicing\",rev2,\"\\n\")\n",
    "rev3=np.flipud(arr)\n",
    "print(\"Reverse of the array using flipud\",rev3,\"\\n\")"
   ]
  },
  {
   "cell_type": "code",
   "execution_count": null,
   "id": "c9d3b2ab-5322-4ee3-bd83-62e0219a3b94",
   "metadata": {},
   "outputs": [],
   "source": [
    "#4. How can you determine the data type of elements in a NumPy array? Discuss the importance of data types in memory management and performance.\n",
    "'''A data type in NumPy is used to specify the type of data stored in a variable.\n",
    "  We can check the datatype of Numpy array by using dtype. Then it returns the data type all the elements in the array. '''"
   ]
  },
  {
   "cell_type": "code",
   "execution_count": 37,
   "id": "6b360624-364b-4aba-b6ce-d4ff33695add",
   "metadata": {
    "scrolled": true
   },
   "outputs": [
    {
     "name": "stdout",
     "output_type": "stream",
     "text": [
      "Data type: int32\n"
     ]
    }
   ],
   "source": [
    "arr = np.array([1, 2, 3, 4, 5])\n",
    "data_type = arr.dtype\n",
    "print(\"Data type:\", data_type)"
   ]
  },
  {
   "cell_type": "code",
   "execution_count": null,
   "id": "e379d3fd-2cd4-4004-9f86-92826ed2fd01",
   "metadata": {},
   "outputs": [],
   "source": [
    "#5. Define ndarrays in NumPy and explain their key features. How do they differ from standard Python lists?\n",
    "'''What is a Numpy array?\n",
    "    NumPy is the fundamental package for scientific computing in Python.\n",
    "    Numpy arrays facilitate advanced mathematical and other types of operations on large numbers of data. \n",
    "    Typically, such operations are executed more efficiently and with less code than is possible using Python’s built-in sequences. \n",
    "    Numpy is not another programming language but a Python extension module. It provides fast and efficient operations on arrays of homogeneous data. \n",
    "    We can create an N-dimensional array in Python using np.array().\n",
    "   The array is by default Homogeneous, which means data inside an array must be of the same Datatype.\n",
    "What is Python List?\n",
    "   A Python list is a collection that is ordered and changeable. In Python, lists are written with square brackets. \n",
    "   The list can be homogeneous or heterogeneous.\n",
    "   Element-wise operation is not possible on the list.\n",
    "   Python list is by default 1-dimensional. But we can create an N-Dimensional list. But then too it will be 1 D list storing another 1D list\n",
    "   Elements of a list need not be contiguous in memory.'''"
   ]
  },
  {
   "cell_type": "code",
   "execution_count": null,
   "id": "e18335a2-70c7-44f7-b1c8-7736fdfbf731",
   "metadata": {},
   "outputs": [],
   "source": [
    "#6. Analyze the performance benefits of NumPy arrays over Python lists for large-scale numerical operations.\n",
    "'''Memory usage\n",
    "    The most important gain is the memory usage. This comes in handy when we implement complex algorithms and in research work.\n",
    "  Speed\n",
    "    Numpy is speed because it store the homogenous data in continous form.\n",
    "  Memory consumption between Numpy array and lists \n",
    "     In Python, a list is a built-in data structure that can hold elements of varying data types. However, the flexibility of lists comes at the cost of memory efficiency.\n",
    "     Python’s NumPy library supports optimized numerical array and matrix operations."
   ]
  },
  {
   "cell_type": "code",
   "execution_count": null,
   "id": "3f745915-a9d5-46b8-a394-c9f0a55aaa38",
   "metadata": {},
   "outputs": [],
   "source": [
    "#7. Compare vstack() and hstack() functions in NumPy. Provide examples demonstrating their usage and output\n",
    "'''np.hstack() function is used to stack the sequence of input arrays horizontally (i.e. column wise) to make a single array.\n",
    "   numpy.vstack() function is used to stack the sequence of input arrays vertically to make a single array.'''"
   ]
  },
  {
   "cell_type": "code",
   "execution_count": 8,
   "id": "16ec93ee-72a9-47ea-9e40-22cfee0c8b4c",
   "metadata": {},
   "outputs": [
    {
     "name": "stdout",
     "output_type": "stream",
     "text": [
      "1st Input array : \n",
      " [[ 1  2  3]\n",
      " [-1 -2 -3]]\n",
      "2nd Input array : \n",
      " [[ 4  5  6]\n",
      " [-4 -5 -6]]\n",
      "Output stacked array :\n",
      "  [[ 1  2  3]\n",
      " [-1 -2 -3]\n",
      " [ 4  5  6]\n",
      " [-4 -5 -6]]\n"
     ]
    }
   ],
   "source": [
    "import numpy as np\n",
    "arr1 = np.array([[ 1, 2, 3], [ -1, -2, -3]] ) \n",
    "print (\"1st Input array : \\n\",arr1)  \n",
    "arr2 = np.array([[ 4, 5, 6], [ -4, -5, -6]] ) \n",
    "print (\"2nd Input array : \\n\",arr2)   \n",
    "arr = np.vstack((arr1,arr2)) \n",
    "print (\"Output stacked array :\\n \", arr)"
   ]
  },
  {
   "cell_type": "code",
   "execution_count": 10,
   "id": "c626db42-08de-41fb-bfa1-227a530b031a",
   "metadata": {},
   "outputs": [
    {
     "name": "stdout",
     "output_type": "stream",
     "text": [
      "1st Input array : \n",
      " [[ 1  2  3]\n",
      " [-1 -2 -3]]\n",
      "2nd Input array : \n",
      " [[ 4  5  6]\n",
      " [-4 -5 -6]]\n",
      "Output stacked array :\n",
      "  [[ 1  2  3  4  5  6]\n",
      " [-1 -2 -3 -4 -5 -6]]\n"
     ]
    }
   ],
   "source": [
    "import numpy as np\n",
    "arr1 = np.array([[ 1, 2, 3], [ -1, -2, -3]] ) \n",
    "print (\"1st Input array : \\n\",arr1)  \n",
    "arr2 = np.array([[ 4, 5, 6], [ -4, -5, -6]] ) \n",
    "print (\"2nd Input array : \\n\",arr2)   \n",
    "arr = np.hstack((arr1,arr2)) \n",
    "print (\"Output stacked array :\\n \", arr)"
   ]
  },
  {
   "cell_type": "code",
   "execution_count": null,
   "id": "7057618e-4af8-4d7a-9bd6-8a094772aea7",
   "metadata": {},
   "outputs": [],
   "source": [
    "#8. Explain the differences between fliplr() and flipud() methods in NumPy, including their effects on various array dimensions.\n",
    "'''fliplr()\n",
    "   Use np.fliplr() to flip ndarray horizontally. lr means \"Left\" and \"Right\".\n",
    "   np.fliplr() specialized for horizontal flipping.\n",
    "   Using flipud function to Reverse a Numpy array \n",
    "   The numpy.flipud() function flips the array(entries in each column) in up-down direction, shape preserved.'''"
   ]
  },
  {
   "cell_type": "code",
   "execution_count": 14,
   "id": "79b98776-1658-4cd3-9433-8a93c9571d90",
   "metadata": {},
   "outputs": [
    {
     "name": "stdout",
     "output_type": "stream",
     "text": [
      "The given array is  [[ 1  2  3  4  5]\n",
      " [ 6  7  8  9 10]] \n",
      "\n",
      " Reverse of array using fliplr is [[ 5  4  3  2  1]\n",
      " [10  9  8  7  6]] \n",
      "\n",
      "Reverse of the array using flipud [[ 6  7  8  9 10]\n",
      " [ 1  2  3  4  5]] \n",
      "\n"
     ]
    }
   ],
   "source": [
    "arr=np.array([[1,2,3,4,5],[6,7,8,9,10]])\n",
    "print(\"The given array is \", arr,\"\\n\")\n",
    "rev1=np.fliplr(arr)\n",
    "print(\" Reverse of array using fliplr is\",rev1,\"\\n\")\n",
    "rev3=np.flipud(arr)\n",
    "print(\"Reverse of the array using flipud\",rev3,\"\\n\")"
   ]
  },
  {
   "cell_type": "code",
   "execution_count": null,
   "id": "d722a68a-615f-4685-8bf1-d560f507a149",
   "metadata": {},
   "outputs": [],
   "source": [
    "#9. Discuss the functionality of the array_split() method in NumPy. How does it handle uneven splits?\n",
    "'''NumPy arrays are an essential tool for scientific computing.\n",
    "   However, at times, it becomes necessary to manipulate and analyze specific parts of the data.\n",
    "   This is where array splitting comes into play, allowing you to break down an array into smaller sub-arrays, making the data more manageable. \n",
    "   It is similar to slicing but on a larger scale.\n",
    "   The split(), hsplit(), vsplit(), and dsplit() functions are important tools for dividing arrays along various axes and dimensions.\n",
    "   These functions are particularly useful when working with one-dimensional arrays, matrices, or high-dimensional datasets.'''"
   ]
  },
  {
   "cell_type": "code",
   "execution_count": 18,
   "id": "9a247813-b5fb-40d7-8084-5b63e13d851d",
   "metadata": {},
   "outputs": [
    {
     "name": "stdout",
     "output_type": "stream",
     "text": [
      "[array([1, 2]), array([3, 4]), array([5, 6])]\n"
     ]
    }
   ],
   "source": [
    "Arr = np.array([1, 2, 3, 4, 5, 6])\n",
    "array = np.array_split(Arr, 3)\n",
    "print(array)"
   ]
  },
  {
   "cell_type": "code",
   "execution_count": null,
   "id": "88342998-60c0-442e-9295-6fcff86f20b8",
   "metadata": {},
   "outputs": [],
   "source": [
    "#10. Explain the concepts of vectorization and broadcasting in NumPy. How do they contribute to efficient array operations?\n",
    "'''Broadcasting \n",
    "   The term broadcasting refers to the ability of NumPy to treat arrays with different dimensions during arithmetic operations.\n",
    "    This process involves certain rules that allow the smaller array to be ‘broadcast’ across the larger one, ensuring that they have compatible shapes for these operations.\n",
    "    Broadcasting is not limited to two arrays; it can be applied over multiple arrays as well.\n",
    "    Broadcasting provides a means of vectorizing array operations, therefore eliminating the need for Python loops.\n",
    "    This is because NumPy is implemented in C Programming, which is a very efficient language.\n",
    "    Vectorization \n",
    " The NumPy vectorize function (np.vectorize) is provided by the Python library. \n",
    " It accepts a nested sequence of objects or a NumPy array as input and returns a single NumPy array or a tuple of NumPy arrays as output. \n",
    " With the addition of the NumPy broadcasting rules, the np vectorize function evaluates pyfunc(user-defined function parameter) over successive tuples of the input arrays, similar to the map function in Python.'''"
   ]
  },
  {
   "cell_type": "code",
   "execution_count": 20,
   "id": "34ccfd10-4f9f-4890-949e-01559a64a54a",
   "metadata": {},
   "outputs": [
    {
     "name": "stdout",
     "output_type": "stream",
     "text": [
      "[17 11 19]\n",
      "3\n",
      "[20 14 22]\n"
     ]
    }
   ],
   "source": [
    "a = np.array([17, 11, 19]) # 1x3 Dimension array \n",
    "print(a) \n",
    "b = 3  \n",
    "print(b)  # Broadcasting happened because of \n",
    "# miss match in array Dimension. \n",
    "c = a + b  \n",
    "print(c)"
   ]
  },
  {
   "cell_type": "code",
   "execution_count": null,
   "id": "cc110811-0c4a-4bf3-b76a-c39a9199ab39",
   "metadata": {},
   "outputs": [],
   "source": [
    "# Practical Questions \n"
   ]
  },
  {
   "cell_type": "code",
   "execution_count": 13,
   "id": "b404838d-a6f8-4b72-9421-f073b341e02c",
   "metadata": {},
   "outputs": [
    {
     "name": "stdout",
     "output_type": "stream",
     "text": [
      "Original array is [[33 72 76]\n",
      " [31 18 65]\n",
      " [94 10 88]] \n",
      "\n",
      "Transpose array is [[33 31 94]\n",
      " [72 18 10]\n",
      " [76 65 88]] \n",
      "\n"
     ]
    }
   ],
   "source": [
    "#1. Create a 3x3 NumPy array with random integers between 1 and 100. Then, interchange its rows and columns.\n",
    "import numpy as np \n",
    "import random \n",
    "array=np.random.randint(1,101,size=(3,3))\n",
    "print(\"Original array is\",array,\"\\n\")\n",
    "transpose_array= array.T\n",
    "print(\"Transpose array is\",transpose_array,\"\\n\")"
   ]
  },
  {
   "cell_type": "code",
   "execution_count": 24,
   "id": "e259c2ad-0335-4b12-a1a2-4dec5b545a95",
   "metadata": {},
   "outputs": [
    {
     "name": "stdout",
     "output_type": "stream",
     "text": [
      "[ 1  2  3  4  5  6  7  8  9 10]\n",
      "Dimension of array is 1 \n",
      "\n",
      "array of 2*5 array [[ 1  2  3  4  5]\n",
      " [ 6  7  8  9 10]] \n",
      "\n",
      "array of 5*2 [[ 1  2]\n",
      " [ 3  4]\n",
      " [ 5  6]\n",
      " [ 7  8]\n",
      " [ 9 10]] \n",
      "\n"
     ]
    }
   ],
   "source": [
    "#2. Generate a 1D NumPy array with 10 elements. Reshape it into a 2x5 array, then into a 5x2 array\n",
    "arr=np.array([1,2,3,4,5,6,7,8,9,10])\n",
    "print(arr)\n",
    "print(\"Dimension of array is\",arr.ndim,\"\\n\")\n",
    "arr1=arr.reshape(2,5)\n",
    "print(\"array of 2*5 array\",arr1,\"\\n\")\n",
    "arr2=arr.reshape(5,2)\n",
    "print(\"array of 5*2\",arr2,\"\\n\")"
   ]
  },
  {
   "cell_type": "code",
   "execution_count": 38,
   "id": "30e8f160-6185-4533-9c80-08ba1b7c2937",
   "metadata": {},
   "outputs": [
    {
     "name": "stdout",
     "output_type": "stream",
     "text": [
      "Original array is [[0.86391358 0.57690476 0.71947608 0.97867866]\n",
      " [0.25785046 0.04167665 0.00566321 0.69218367]\n",
      " [0.63127995 0.12747364 0.70592396 0.04224447]\n",
      " [0.85000827 0.19768386 0.50154195 0.84031567]] \n",
      "\n",
      "Bordered aray is [[0.         0.         0.         0.         0.         0.        ]\n",
      " [0.         0.86391358 0.57690476 0.71947608 0.97867866 0.        ]\n",
      " [0.         0.25785046 0.04167665 0.00566321 0.69218367 0.        ]\n",
      " [0.         0.63127995 0.12747364 0.70592396 0.04224447 0.        ]\n",
      " [0.         0.85000827 0.19768386 0.50154195 0.84031567 0.        ]\n",
      " [0.         0.         0.         0.         0.         0.        ]] \n",
      "\n",
      "shape of bordered array is  (6, 6)\n"
     ]
    }
   ],
   "source": [
    "#3. Create a 4x4 NumPy array with random float values. Add a border of zeros around it, resulting in a 6x6 array\n",
    "arr=np.random.rand(4,4)\n",
    "print(\"Original array is\",arr,\"\\n\")\n",
    "bordered_array = np.pad(arr, pad_width=1, mode='constant', constant_values=0)\n",
    "print(\"Bordered aray is\",bordered_array,\"\\n\")\n",
    "print(\"shape of bordered array is \",bordered_array.shape)"
   ]
  },
  {
   "cell_type": "code",
   "execution_count": 40,
   "id": "d34bbd28-ded3-487d-82bd-768f69b94a9a",
   "metadata": {},
   "outputs": [
    {
     "data": {
      "text/plain": [
       "array([10, 15, 20, 25, 30, 35, 40, 45, 50, 55])"
      ]
     },
     "execution_count": 40,
     "metadata": {},
     "output_type": "execute_result"
    }
   ],
   "source": [
    "#4. Using NumPy, create an array of integers from 10 to 60 with a step of 5\n",
    "arr=np.arange(10,60,5)\n",
    "arr"
   ]
  },
  {
   "cell_type": "code",
   "execution_count": 55,
   "id": "cab8c6e7-797d-4e9d-9e66-5510c56c958a",
   "metadata": {},
   "outputs": [
    {
     "name": "stdout",
     "output_type": "stream",
     "text": [
      "['python' 'numpy' 'pandas'] \n",
      "\n",
      "uppercase transformation is ['PYTHON' 'NUMPY' 'PANDAS'] \n",
      "\n",
      "lowercase transformation is ['python' 'numpy' 'pandas'] \n",
      "\n",
      "Capitalizescase is ['Python' 'Numpy' 'Pandas'] \n",
      "\n",
      "titlecase is ['Python' 'Numpy' 'Pandas']\n"
     ]
    }
   ],
   "source": [
    "#5. Create a NumPy array of strings ['python', 'numpy', 'pandas']. Apply different case transformations (uppercase, lowercase, title case, etc.) to each element\n",
    "arr=np.array(['python', 'numpy', 'pandas'])\n",
    "print(arr,\"\\n\")\n",
    "print(\"uppercase transformation is\",np.char.upper(arr),\"\\n\")\n",
    "print(\"lowercase transformation is\",np.char.lower(arr),\"\\n\")\n",
    "print(\"Capitalizescase is\",np.char.capitalize(arr),\"\\n\")\n",
    "print(\"titlecase is\",np.char.title(arr))"
   ]
  },
  {
   "cell_type": "code",
   "execution_count": 59,
   "id": "8d8e5f63-80c5-414e-8649-25a6cb9b0f06",
   "metadata": {},
   "outputs": [
    {
     "name": "stdout",
     "output_type": "stream",
     "text": [
      "['Sachin' 'Kumar' 'Giri' 'Bihar'] \n",
      "\n",
      "New array is ['S a c h i n' 'K u m a r' 'G i r i' 'B i h a r']\n"
     ]
    }
   ],
   "source": [
    "#6. Generate a NumPy array of words. Insert a space between each character of every word in the array.\n",
    "l=[\"Sachin\",\"Kumar\",\"Giri\",\"Bihar\"]\n",
    "arr=np.array(l)\n",
    "print(arr,\"\\n\")\n",
    "new_arr=np.char.join(\" \",arr)\n",
    "print(\"New array is\",new_arr)"
   ]
  },
  {
   "cell_type": "code",
   "execution_count": 68,
   "id": "5bec1fe3-24c9-46b2-a55d-9997b502d9ed",
   "metadata": {},
   "outputs": [
    {
     "name": "stdout",
     "output_type": "stream",
     "text": [
      "1st array is: [[1 2 3 4]\n",
      " [5 6 7 8]] \n",
      "\n",
      "2nd array is: [[11 12 13 14]\n",
      " [15 16 17 18]] \n",
      "\n",
      "addition is: [[12 14 16 18]\n",
      " [20 22 24 26]] \n",
      "\n",
      "Multiplication is: [[ 11  24  39  56]\n",
      " [ 75  96 119 144]] \n",
      "\n",
      "divison is: [[0.09090909 0.16666667 0.23076923 0.28571429]\n",
      " [0.33333333 0.375      0.41176471 0.44444444]] \n",
      "\n"
     ]
    }
   ],
   "source": [
    "#7. Create two 2D NumPy arrays and perform element-wise addition, subtraction, multiplication, and division\n",
    "arr1=np.array([[1,2,3,4],[5,6,7,8]])\n",
    "arr2=np.array([[11,12,13,14],[15,16,17,18]])\n",
    "print(\"1st array is:\",arr1,\"\\n\")\n",
    "print(\"2nd array is:\",arr2,\"\\n\")\n",
    "arr_add=arr1+arr2    # element wise addition \n",
    "arr_mul=arr1*arr2    # element wise multiplication\n",
    "arr_div=arr1/arr2    # element wise divison \n",
    "print(\"addition is:\",arr_add,\"\\n\")\n",
    "print(\"Multiplication is:\",arr_mul,\"\\n\")\n",
    "print(\"divison is:\",arr_div,\"\\n\")"
   ]
  },
  {
   "cell_type": "code",
   "execution_count": 79,
   "id": "845acb95-9e7d-499b-9291-e9a21a10e009",
   "metadata": {},
   "outputs": [
    {
     "name": "stdout",
     "output_type": "stream",
     "text": [
      "The matrix is [[1 0 0 0 0]\n",
      " [0 1 0 0 0]\n",
      " [0 0 1 0 0]\n",
      " [0 0 0 1 0]\n",
      " [0 0 0 0 1]] \n",
      "\n",
      "the diagonal elements are: [1 1 1 1 1]\n"
     ]
    }
   ],
   "source": [
    "#8. Use NumPy to create a 5x5 identity matrix, then extract its diagonal elements.\n",
    "identity_matrix=np.eye(5,5,dtype=int)\n",
    "print(\"The matrix is\",identity_matrix,\"\\n\")\n",
    "print(\"the diagonal elements are:\",np.diag(identity_matrix))"
   ]
  },
  {
   "cell_type": "code",
   "execution_count": 85,
   "id": "e67928a3-fe24-4284-996d-de1e141040ef",
   "metadata": {},
   "outputs": [
    {
     "name": "stdout",
     "output_type": "stream",
     "text": [
      "Array is :\n",
      "[178 209 561 412 295 153 353 264  44 989 824 793 436 877 854 581 255 850\n",
      " 237 272 337 670 850 848 198 430 812 916 838 453  76 805 750 411 619 624\n",
      " 787 949 386 555 303 172 673 379 473 636 331 611 961 196 351 289 682 506\n",
      " 521 287 687 718 103 808 947 428 142 653 480 882  59 695 572 384  36 156\n",
      " 659 802 689 124 737 527 224 929 901 800 572  36 189 591 751  46 160 255\n",
      " 717 833 547 617 489 796 816 272  63 156]\n",
      "Prime Numbers:\n",
      "[353 877 337 619 787 673 379 331 521 103 947 653  59 659 929 751 547 617]\n"
     ]
    }
   ],
   "source": [
    "#9. Generate a NumPy array of 100 random integers between 0 and 1000. Find and display all prime numbers in this array.\n",
    "# Function to check if a number is prime\n",
    "def is_prime(num):\n",
    "    if num <= 1:\n",
    "        return False\n",
    "    for i in range(2, int(num**0.5) + 1):\n",
    "        if num % i == 0:\n",
    "            return False\n",
    "    return True\n",
    "arr = np.random.randint(0, 1001, size=100)\n",
    "prime_numbers = np.array([num for num in arr if is_prime(num)])     # Find all prime numbers in the array\n",
    "print(\"Array is :\")\n",
    "print(arr)\n",
    "print(\"Prime Numbers:\")\n",
    "print(prime_numbers)"
   ]
  },
  {
   "cell_type": "code",
   "execution_count": 91,
   "id": "6eb52e18-ca7c-43c2-a25d-dfb04740611a",
   "metadata": {},
   "outputs": [
    {
     "name": "stdout",
     "output_type": "stream",
     "text": [
      "Daily Temperatures for the Month:\n",
      "[20.08650948 21.56097508 20.92029773 22.13904397 24.16777702 18.21841285\n",
      " 19.75499138 21.29951322 20.40180014 27.81240477 20.41343352 28.42748142\n",
      " 17.72773507 17.55366448 18.08644353 26.80529306 15.01404466 22.58655625\n",
      " 19.20313771 24.73473565 18.04675436 18.7491596  15.75281568 28.6134822\n",
      " 15.4441034  20.51024052 15.15742171 20.67801799]\n",
      "\n",
      "Weekly Averages:\n",
      "[20.97828679 21.94800466 20.63956646 19.2721773 ]\n"
     ]
    }
   ],
   "source": [
    "#10. Create a NumPy array representing daily temperatures for a month. Calculate and display the weekly averages.\n",
    "daily_temperatures = np.random.uniform(15, 30, size=28)\n",
    "weekly_temperatures = daily_temperatures.reshape(4, -1)       # Reshape the array to represent 4 weeks (28 days) and 2 extra days\n",
    "weekly_averages = np.mean(weekly_temperatures, axis=1)       # Calculate weekly averages\n",
    "print(\"Daily Temperatures for the Month:\")\n",
    "print(daily_temperatures)\n",
    "print(\"\\nWeekly Averages:\")\n",
    "print(weekly_averages)"
   ]
  },
  {
   "cell_type": "code",
   "execution_count": null,
   "id": "e27042ab-4086-4d8d-8866-b4b891a192ce",
   "metadata": {},
   "outputs": [],
   "source": []
  },
  {
   "cell_type": "code",
   "execution_count": null,
   "id": "37548013-2f1b-44d5-a5d1-58de5097a48a",
   "metadata": {},
   "outputs": [],
   "source": []
  }
 ],
 "metadata": {
  "kernelspec": {
   "display_name": "Python 3 (ipykernel)",
   "language": "python",
   "name": "python3"
  },
  "language_info": {
   "codemirror_mode": {
    "name": "ipython",
    "version": 3
   },
   "file_extension": ".py",
   "mimetype": "text/x-python",
   "name": "python",
   "nbconvert_exporter": "python",
   "pygments_lexer": "ipython3",
   "version": "3.12.4"
  }
 },
 "nbformat": 4,
 "nbformat_minor": 5
}
